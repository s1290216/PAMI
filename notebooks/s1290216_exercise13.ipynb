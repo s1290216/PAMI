{
 "cells": [
  {
   "cell_type": "markdown",
   "id": "70b49675-967c-4790-a3c7-6dcdc07ed418",
   "metadata": {},
   "source": [
    "# Mining Frequent Patterns from Air Pollution Data"
   ]
  },
  {
   "cell_type": "code",
   "execution_count": null,
   "id": "7f494b19-a838-4f28-a5ff-14cb9e3834ae",
   "metadata": {},
   "outputs": [],
   "source": [
    "from PAMI.extras.DF2DB import denseDF2DB as pro\n",
    "from PAMI.frequentPattern.basic import FPGrowth as alg\n",
    "import plotly.express as px\n",
    "import pandas as pd\n",
    "\n",
    "class MFP:\n",
    "    def __init__(self, fileName):\n",
    "        df = pd.read_csv(fileName).fillna(0)\n",
    "        self.data = df.where(df['timestamp'].replace('(.*)', 0, regex=True) < 100, 0).rename(columns={'timestamp': 'tid'}).replace('2023-(.*)', regex=True)\n",
    "        for i in range(self.data.shape[0]):\n",
    "            self.data.iloc[i, 0] = i + 1\n",
    "        self.dataProcessing()\n",
    "        self.knowledgeDiscovery()\n",
    "        self.visualization()\n",
    "\n",
    "    def dataProcessing(self):\n",
    "        db = pro.denseDF2DB(inputDF=self.data, thresholdValue=15, condition='>=')\n",
    "        db.createTransactional(outputFile='PM24HeavyPollutionRecordingSensors.csv')\n",
    "    \n",
    "    def knowledgeDiscovery(self):\n",
    "        inputFile = 'PM24HeavyPollutionRecordingSensors.csv'\n",
    "        minSup = 200\n",
    "        obj = alg.FPGrowth(inputFile, minSup)\n",
    "        obj.startMine()\n",
    "        obj.save('frequentPatterns.txt')\n",
    "    \n",
    "    def visualization(self):\n",
    "        with open('frequentPatterns.txt', 'r', encoding = 'UTF-8') as f:\n",
    "            content = f.read()\n",
    "            lines = content.split('\\n')\n",
    "            max = -1\n",
    "            longest = -1\n",
    "            for i in range(len(lines)):\n",
    "                c = lines[i].split('POINT(')\n",
    "                if max < len(c):\n",
    "                    max = len(c)\n",
    "                    longest = i\n",
    "            long = []\n",
    "            lati = []\n",
    "            p = lines[longest].replace('tid', '').replace(':', ' ').replace('\\t', ' ').split()\n",
    "            for i in p:\n",
    "                if 'POINT(' in i:\n",
    "                    long.append(float(i.replace('POINT(', '')))\n",
    "                elif ')' in i:\n",
    "                    lati.append(float(i.replace(')', '')))\n",
    "            figure = px.scatter_mapbox(\n",
    "                # the setting of the data frame, latitude, and longitude\n",
    "                lat = lati,\n",
    "                lon = long,\n",
    "                # the setting of drawing\n",
    "                size = [1] * len(lati),\n",
    "                center = {'lat':34.686567, 'lon':135.52000},\n",
    "                zoom = 4,\n",
    "                height = 600,\n",
    "                width = 800)\n",
    "            figure.update_layout(mapbox_style='open-street-map')\n",
    "            figure.update_layout(margin={\"r\": 0, \"t\": 0, \"l\": 0, \"b\": 0})\n",
    "            figure.update_layout(title_text=\"longest pattern\")\n",
    "            figure.show()\n",
    "\n",
    "if __name__ == '__main__':\n",
    "    MFP('airPollutionData.csv')"
   ]
  },
  {
   "cell_type": "markdown",
   "id": "45bc4374-c9ec-4921-b825-3e7fcca714d5",
   "metadata": {},
   "source": [
    "https://github.com/s1290216/PAMI"
   ]
  }
 ],
 "metadata": {
  "kernelspec": {
   "display_name": "Python 3 (ipykernel)",
   "language": "python",
   "name": "python3"
  },
  "language_info": {
   "codemirror_mode": {
    "name": "ipython",
    "version": 3
   },
   "file_extension": ".py",
   "mimetype": "text/x-python",
   "name": "python",
   "nbconvert_exporter": "python",
   "pygments_lexer": "ipython3",
   "version": "3.10.4"
  }
 },
 "nbformat": 4,
 "nbformat_minor": 5
}
